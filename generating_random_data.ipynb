{
  "nbformat": 4,
  "nbformat_minor": 0,
  "metadata": {
    "colab": {
      "provenance": [],
      "include_colab_link": true
    },
    "kernelspec": {
      "name": "python3",
      "display_name": "Python 3"
    },
    "language_info": {
      "name": "python"
    }
  },
  "cells": [
    {
      "cell_type": "markdown",
      "metadata": {
        "id": "view-in-github",
        "colab_type": "text"
      },
      "source": [
        "<a href=\"https://colab.research.google.com/github/Nikitajain121/Data-Science/blob/main/generating_random_data.ipynb\" target=\"_parent\"><img src=\"https://colab.research.google.com/assets/colab-badge.svg\" alt=\"Open In Colab\"/></a>"
      ]
    },
    {
      "cell_type": "code",
      "execution_count": null,
      "metadata": {
        "colab": {
          "base_uri": "https://localhost:8080/"
        },
        "id": "Qam1VbfJ9TES",
        "outputId": "daf8a7a4-6401-4417-ed69-e5caa4a24c5d"
      },
      "outputs": [
        {
          "output_type": "stream",
          "name": "stdout",
          "text": [
            "Dataset with twenty rows created and saved as 'twenty_rows_dataset.csv'.\n"
          ]
        }
      ],
      "source": [
        "import csv\n",
        "\n",
        "# Sample data for the dataset\n",
        "data = [\n",
        "    [\"Disease\", \"Fever\", \"Cough\", \"Fatigue\", \"Difficulty Breathing\", \"Age\", \"Gender\", \"Blood Pressure\", \"Cholesterol Level\", \"Outcome Variable\"],\n",
        "    [\"Influenza\", \"Yes\", \"Yes\", \"No\", \"Yes\", 30, \"Female\", \"Normal\", \"Normal\", \"Positive\"],\n",
        "    [\"Common Cold\", \"No\", \"Yes\", \"Yes\", \"No\", 25, \"Male\", \"Normal\", \"Normal\", \"Negative\"],\n",
        "    [\"Asthma\", \"Yes\", \"Yes\", \"No\", \"Yes\", 35, \"Female\", \"Normal\", \"Normal\", \"Positive\"],\n",
        "    [\"Bronchitis\", \"Yes\", \"No\", \"Yes\", \"Yes\", 40, \"Male\", \"High\", \"Normal\", \"Positive\"],\n",
        "    [\"Pneumonia\", \"Yes\", \"Yes\", \"Yes\", \"Yes\", 32, \"Female\", \"High\", \"Normal\", \"Positive\"],\n",
        "    [\"Diabetes\", \"No\", \"No\", \"No\", \"No\", 29, \"Male\", \"Low\", \"Normal\", \"Negative\"],\n",
        "    [\"Migraine\", \"Yes\", \"No\", \"No\", \"No\", 30, \"Female\", \"Normal\", \"Normal\", \"Negative\"],\n",
        "    [\"Hypertension\", \"Yes\", \"Yes\", \"Yes\", \"No\", 35, \"Female\", \"High\", \"Normal\", \"Negative\"],\n",
        "    [\"Gastroenteritis\", \"No\", \"Yes\", \"Yes\", \"No\", 29, \"Female\", \"Normal\", \"Normal\", \"Negative\"],\n",
        "    [\"Ulcerative Colitis\", \"Yes\", \"No\", \"No\", \"No\", 30, \"Male\", \"High\", \"High\", \"Positive\"],\n",
        "    [\"Eczema\", \"Yes\", \"No\", \"Yes\", \"No\", 25, \"Female\", \"Normal\", \"Normal\", \"Negative\"],\n",
        "    [\"Allergic Rhinitis\", \"No\", \"Yes\", \"Yes\", \"No\", 29, \"Female\", \"Normal\", \"Low\", \"Negative\"],\n",
        "    [\"Liver Cancer\", \"No\", \"No\", \"Yes\", \"No\", 35, \"Female\", \"High\", \"High\", \"Positive\"],\n",
        "    [\"Kidney Cancer\", \"No\", \"No\", \"Yes\", \"No\", 30, \"Male\", \"Normal\", \"Normal\", \"Negative\"],\n",
        "    [\"Rheumatoid Arthritis\", \"Yes\", \"Yes\", \"Yes\", \"No\", 29, \"Female\", \"High\", \"High\", \"Negative\"],\n",
        "    [\"Depression\", \"Yes\", \"Yes\", \"Yes\", \"Yes\", 29, \"Male\", \"High\", \"Normal\", \"Positive\"],\n",
        "    [\"Urinary Tract Infection\", \"Yes\", \"Yes\", \"Yes\", \"No\", 29, \"Female\", \"Normal\", \"Normal\", \"Positive\"],\n",
        "    [\"Atherosclerosis\", \"No\", \"No\", \"Yes\", \"No\", 35, \"Male\", \"Normal\", \"Normal\", \"Negative\"],\n",
        "    [\"Hepatitis\", \"Yes\", \"Yes\", \"Yes\", \"Yes\", 30, \"Male\", \"High\", \"Normal\", \"Negative\"],\n",
        "]\n",
        "\n",
        "# Save the data to a CSV file\n",
        "csv_file_path = \"twenty_rows_dataset.csv\"\n",
        "with open(csv_file_path, mode='w', newline='') as file:\n",
        "    writer = csv.writer(file)\n",
        "    writer.writerows(data)\n",
        "\n",
        "print(\"Dataset with twenty rows created and saved as 'twenty_rows_dataset.csv'.\")\n"
      ]
    },
    {
      "cell_type": "code",
      "source": [
        "from google.colab import drive\n",
        "drive.mount('/content/drive')"
      ],
      "metadata": {
        "colab": {
          "base_uri": "https://localhost:8080/"
        },
        "id": "xQ2cx2Tuwv2S",
        "outputId": "d4e6e66b-54f1-408e-9ea0-8deba559948c"
      },
      "execution_count": null,
      "outputs": [
        {
          "output_type": "stream",
          "name": "stdout",
          "text": [
            "Mounted at /content/drive\n"
          ]
        }
      ]
    },
    {
      "cell_type": "code",
      "source": [
        "import csv\n",
        "import random\n",
        "\n",
        "# List of possible diseases\n",
        "diseases = [\"Influenza\", \"Common Cold\", \"Asthma\", \"Bronchitis\", \"Pneumonia\", \"Diabetes\", \"Migraine\",\n",
        "            \"Hypertension\", \"Gastroenteritis\", \"Ulcerative Colitis\", \"Eczema\", \"Allergic Rhinitis\",\n",
        "            \"Liver Cancer\", \"Kidney Cancer\", \"Rheumatoid Arthritis\", \"Depression\", \"Urinary Tract Infection\",\n",
        "            \"Atherosclerosis\", \"Hepatitis\"]\n",
        "\n",
        "# Function to generate random numerical data for a patient\n",
        "def generate_random_patient():\n",
        "    disease = random.choice(diseases)\n",
        "    fever = random.uniform(97.0, 104.0)\n",
        "    cough = random.uniform(0.0, 1.0)\n",
        "    fatigue = random.uniform(0.0, 1.0)\n",
        "    difficulty_breathing = random.uniform(0.0, 1.0)\n",
        "    age = random.randint(20, 80)\n",
        "    blood_pressure = random.uniform(80.0, 200.0)\n",
        "    cholesterol_level = random.uniform(100.0, 300.0)\n",
        "    outcome_variable = random.choice([\"Positive\", \"Negative\"])\n",
        "\n",
        "    return [disease, fever, cough, fatigue, difficulty_breathing, age, blood_pressure, cholesterol_level, outcome_variable]\n",
        "\n",
        "# Create a dataset of 20 patients\n",
        "data = [generate_random_patient() for _ in range(20)]\n",
        "\n",
        "# Save the data to a CSV file\n",
        "csv_file_path = \"patient_dataset.csv\"\n",
        "with open(csv_file_path, mode='w', newline='') as file:\n",
        "    writer = csv.writer(file)\n",
        "    writer.writerow([\"Disease\", \"Fever\", \"Cough\", \"Fatigue\", \"Difficulty Breathing\", \"Age\", \"Blood Pressure\", \"Cholesterol Level\", \"Outcome Variable\"])\n",
        "    writer.writerows(data)\n",
        "\n",
        "print(\"Dataset of 20 patients with random diseases and mostly floating-point values created and saved as 'patient_dataset.csv'.\")\n"
      ],
      "metadata": {
        "id": "Cn3tbDbh-wPu",
        "outputId": "18edfd3b-f243-4863-8289-63eaaa7c5a4a",
        "colab": {
          "base_uri": "https://localhost:8080/"
        }
      },
      "execution_count": null,
      "outputs": [
        {
          "output_type": "stream",
          "name": "stdout",
          "text": [
            "Dataset of 20 patients with random diseases and mostly floating-point values created and saved as 'patient_dataset.csv'.\n"
          ]
        }
      ]
    },
    {
      "cell_type": "code",
      "source": [
        "import csv\n",
        "\n",
        "data = [\n",
        "    [\"Person\", \"Age\", \"Gender\", \"SystolicBP\", \"DiastolicBP\", \"FastingGlucose\", \"FamilyHistory\", \"BloodPressureMed\", \"StressLevel\", \"CaloricIntake\", \"PhysicalActivity\"],\n",
        "    [1, 45, \"Male\", 120.5, 80.2, 100.8, 1.0, 0.0, 3.5, 2200.6, 0.7],\n",
        "    [2, 32, \"Female\", 115.7, 75.1, 90.2, 0.0, 0.0, 1.8, 1800.2, 0.9],\n",
        "    [3, 68, \"Male\", 135.2, 85.7, 140.4, 1.0, 1.0, 5.6, 1800.0, 0.3],\n",
        "    [4, 56, \"Female\", 122.8, 78.6, 110.0, 0.0, 0.0, 2.1, 2000.7, 0.5],\n",
        "    [5, 42, \"Male\", 128.3, 82.4, 125.5, 1.0, 0.0, 3.0, 2400.3, 0.6],\n",
        "    [6, 60, \"Female\", 130.1, 85.0, 135.8, 1.0, 1.0, 4.2, 1900.9, 0.4],\n",
        "    [7, 49, \"Male\", 124.6, 80.7, 120.0, 0.0, 0.0, 2.8, 2100.5, 0.7],\n",
        "    [8, 38, \"Female\", 118.9, 76.5, 95.7, 0.0, 0.0, 1.5, 1800.8, 0.8],\n",
        "    [9, 72, \"Male\", 140.2, 89.3, 160.6, 1.0, 1.0, 6.7, 2000.4, 0.2],\n",
        "    [10, 29, \"Female\", 118.0, 77.2, 98.9, 0.0, 0.0, 1.2, 1900.1, 0.9],\n",
        "    [11, 51, \"Male\", 130.7, 83.5, 122.3, 1.0, 0.0, 3.3, 2300.0, 0.6],\n",
        "    [12, 44, \"Female\", 121.5, 79.4, 105.2, 0.0, 0.0, 2.0, 2100.9, 0.7],\n",
        "    [13, 63, \"Male\", 136.8, 87.1, 150.5, 1.0, 1.0, 5.0, 2200.2, 0.3],\n",
        "    [14, 54, \"Female\", 125.3, 81.8, 115.6, 1.0, 0.0, 3.9, 1800.5, 0.5],\n",
        "    [15, 40, \"Male\", 128.0, 82.0, 130.9, 0.0, 0.0, 2.6, 2100.1, 0.8],\n",
        "    [16, 59, \"Female\", 132.4, 84.6, 140.2, 1.0, 0.0, 4.6, 2000.8, 0.4],\n",
        "    [17, 47, \"Male\", 123.7, 79.8, 119.8, 1.0, 0.0, 3.1, 2200.4, 0.7],\n",
        "    [18, 36, \"Female\", 119.5, 77.5, 100.5, 0.0, 0.0, 1.4, 1900.6, 0.9],\n",
        "    [19, 70, \"Male\", 142.0, 88.9, 155.0, 1.0, 1.0, 6.4, 2100.7, 0.2],\n",
        "    [20, 31, \"Female\", 117.4, 76.0, 97.3, 0.0, 0.0, 1.0, 1800.3, 0.8]\n",
        "]\n",
        "\n",
        "filename = \"cholesterol_dataset.csv\"\n",
        "\n",
        "with open(filename, \"w\", newline=\"\") as csvfile:\n",
        "    csvwriter = csv.writer(csvfile)\n",
        "    csvwriter.writerows(data)\n",
        "\n",
        "print(f\"Dataset saved to {filename}\")\n"
      ],
      "metadata": {
        "colab": {
          "base_uri": "https://localhost:8080/"
        },
        "id": "AQHiKCLvE0Je",
        "outputId": "98cf59b1-44fb-455f-8531-eb21ffbad380"
      },
      "execution_count": null,
      "outputs": [
        {
          "output_type": "stream",
          "name": "stdout",
          "text": [
            "Dataset saved to cholesterol_dataset.csv\n"
          ]
        }
      ]
    },
    {
      "cell_type": "code",
      "source": [
        "import csv\n",
        "import random\n",
        "\n",
        "# Define the parameter ranges\n",
        "age_range = (18, 80)\n",
        "blood_pressure_range = (90, 180)  # Systolic BP\n",
        "blood_sugar_range = (70, 200)\n",
        "family_history_range = (0, 1)\n",
        "blood_pressure_med_range = (0, 1)\n",
        "stress_level_range = (1, 10)\n",
        "caloric_intake_range = (1500, 3500)\n",
        "physical_activity_range = (0.1, 1.0)\n",
        "\n",
        "# Create a list of attribute names\n",
        "attributes = [\n",
        "    \"Age\", \"Gender\", \"SystolicBP\", \"DiastolicBP\", \"FastingGlucose\",\n",
        "    \"FamilyHistory\", \"BloodPressureMed\", \"StressLevel\", \"CaloricIntake\", \"PhysicalActivity\"\n",
        "]\n",
        "\n",
        "# Generate dummy data\n",
        "data = []\n",
        "for _ in range(20):\n",
        "    age = random.uniform(*age_range)\n",
        "    gender = random.choice([\"Male\", \"Female\"])\n",
        "    systolic_bp = random.uniform(*blood_pressure_range)\n",
        "    diastolic_bp = random.uniform(60, systolic_bp - 10)\n",
        "    fasting_glucose = random.uniform(*blood_sugar_range)\n",
        "    family_history = random.choice([0, 1])\n",
        "    blood_pressure_med = random.choice([0, 1])\n",
        "    stress_level = random.uniform(*stress_level_range)\n",
        "    caloric_intake = random.uniform(*caloric_intake_range)\n",
        "    physical_activity = random.uniform(*physical_activity_range)\n",
        "\n",
        "    data.append([\n",
        "        age, gender, systolic_bp, diastolic_bp, fasting_glucose,\n",
        "        family_history, blood_pressure_med, stress_level, caloric_intake, physical_activity\n",
        "    ])\n",
        "\n",
        "# Save the dataset to a CSV file\n",
        "filename = \"cholesterol_dataset.csv\"\n",
        "with open(filename, \"w\", newline=\"\") as csvfile:\n",
        "    csvwriter = csv.writer(csvfile)\n",
        "    csvwriter.writerow(attributes)\n",
        "    csvwriter.writerows(data)\n",
        "\n",
        "print(f\"Dataset saved to {filename}\")\n"
      ],
      "metadata": {
        "id": "vthKeeNSF7IU",
        "outputId": "e6ff60b6-b96c-47f7-b035-9171e8d52c39",
        "colab": {
          "base_uri": "https://localhost:8080/"
        }
      },
      "execution_count": null,
      "outputs": [
        {
          "output_type": "stream",
          "name": "stdout",
          "text": [
            "Dataset saved to cholesterol_dataset.csv\n"
          ]
        }
      ]
    },
    {
      "cell_type": "code",
      "source": [],
      "metadata": {
        "id": "fIVijyG7F76F"
      },
      "execution_count": null,
      "outputs": []
    }
  ]
}